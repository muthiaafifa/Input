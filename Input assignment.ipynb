{
 "cells": [
  {
   "cell_type": "markdown",
   "metadata": {},
   "source": [
    "### Getting Input from Users"
   ]
  },
  {
   "cell_type": "code",
   "execution_count": 1,
   "metadata": {},
   "outputs": [
    {
     "name": "stdin",
     "output_type": "stream",
     "text": [
      "Please enter the number:  5\n"
     ]
    }
   ],
   "source": [
    "x = input(\"Please enter the number: \")"
   ]
  },
  {
   "cell_type": "code",
   "execution_count": 3,
   "metadata": {},
   "outputs": [
    {
     "name": "stdout",
     "output_type": "stream",
     "text": [
      "x is : 5 , data type is : <class 'str'>\n"
     ]
    }
   ],
   "source": [
    "print(\"x is : {} , data type is : {}\".format(x,type(x)))"
   ]
  },
  {
   "cell_type": "code",
   "execution_count": 5,
   "metadata": {},
   "outputs": [
    {
     "name": "stdin",
     "output_type": "stream",
     "text": [
      "Please enter the input:  8\n"
     ]
    },
    {
     "name": "stdout",
     "output_type": "stream",
     "text": [
      "y is : 8 , data type is : <class 'str'>\n"
     ]
    }
   ],
   "source": [
    "y = input(\"Please enter the input: \")\n",
    "print(\"y is : {} , data type is : {}\".format(y,type(y)))"
   ]
  },
  {
   "cell_type": "markdown",
   "metadata": {},
   "source": [
    "### Hands - On Implementation"
   ]
  },
  {
   "cell_type": "markdown",
   "metadata": {},
   "source": [
    "##### Write a Program which accepts two numbers and returns sum of two numbers"
   ]
  },
  {
   "cell_type": "code",
   "execution_count": 7,
   "metadata": {},
   "outputs": [
    {
     "name": "stdin",
     "output_type": "stream",
     "text": [
      "Write the first number 12\n",
      "Write the second number 6\n"
     ]
    },
    {
     "name": "stdout",
     "output_type": "stream",
     "text": [
      "x is : 12 , data type is : <class 'str'>\n",
      "y is : 6 , data type is : <class 'str'>\n",
      "result is : 126 , data type is : <class 'str'>\n"
     ]
    }
   ],
   "source": [
    "x = input(\"Write the first number\")\n",
    "y = input(\"Write the second number\")\n",
    "print(\"x is : {} , data type is : {}\".format(x,type(x)))\n",
    "print(\"y is : {} , data type is : {}\".format(y,type(y)))\n",
    "add = x + y\n",
    "print(\"result is : {} , data type is : {}\".format(add,type(add)))"
   ]
  },
  {
   "cell_type": "code",
   "execution_count": 9,
   "metadata": {},
   "outputs": [
    {
     "name": "stdin",
     "output_type": "stream",
     "text": [
      "Write the first number 6\n",
      "Write the second number 3\n"
     ]
    },
    {
     "name": "stdout",
     "output_type": "stream",
     "text": [
      "x is : 6 , data type is : <class 'str'>\n",
      "y is : 3 , data type is : <class 'str'>\n",
      "result is : 9 , data type is : <class 'int'>\n"
     ]
    }
   ],
   "source": [
    "x = input(\"Write the first number\")\n",
    "y = input(\"Write the second number\")\n",
    "print(\"x is : {} , data type is : {}\".format(x,type(x)))\n",
    "print(\"y is : {} , data type is : {}\".format(y,type(y)))\n",
    "add = int(x) + int(y)\n",
    "print(\"result is : {} , data type is : {}\".format(add,type(add)))"
   ]
  },
  {
   "cell_type": "code",
   "execution_count": 11,
   "metadata": {},
   "outputs": [
    {
     "name": "stdin",
     "output_type": "stream",
     "text": [
      "Write the first number 3\n",
      "Write the second number 4\n"
     ]
    },
    {
     "name": "stdout",
     "output_type": "stream",
     "text": [
      "x is : 3 , data type is : <class 'str'>\n",
      "y is : 4 , data type is : <class 'str'>\n",
      "result is : 7.0 , data type is : <class 'float'>\n"
     ]
    }
   ],
   "source": [
    "x = input(\"Write the first number\")\n",
    "y = input(\"Write the second number\")\n",
    "print(\"x is : {} , data type is : {}\".format(x,type(x)))\n",
    "print(\"y is : {} , data type is : {}\".format(y,type(y)))\n",
    "add = float(x) + float(y)\n",
    "print(\"result is : {} , data type is : {}\".format(add,type(add)))"
   ]
  },
  {
   "cell_type": "markdown",
   "metadata": {},
   "source": [
    "### Activity :"
   ]
  },
  {
   "cell_type": "markdown",
   "metadata": {},
   "source": [
    "##### 1. Write a program which takes 3 numbers as input and returns its sum\n",
    "##### 2. Write a program which takes 3 numbers as input and retruns its average. (Hint: Average = Sum/number of values)"
   ]
  },
  {
   "cell_type": "code",
   "execution_count": 29,
   "metadata": {},
   "outputs": [
    {
     "name": "stdin",
     "output_type": "stream",
     "text": [
      "first number:  4\n",
      "second number :  5\n",
      "third number :  6\n"
     ]
    },
    {
     "name": "stdout",
     "output_type": "stream",
     "text": [
      "p is : 4, data type : <class 'str'>\n",
      "q is : 5, data type : <class 'str'>\n",
      "r is : 6, data type: <class 'str'>\n",
      "result : 15.0, data type : <class 'float'>\n"
     ]
    }
   ],
   "source": [
    "p = input(\"first number: \")\n",
    "q = input(\"second number : \")\n",
    "r = input (\"third number : \")\n",
    "print (\"p is : {}, data type : {}\".format (p, type(p)))\n",
    "print (\"q is : {}, data type : {}\".format (q, type(q)))\n",
    "print (\"r is : {}, data type: {}\". format (r, type(r)))\n",
    "sum = float (p) + float (q) + float (r)  #harus sesuai type datanya (kalau float hasilnya dibelakang ada koma, kalo int gaada) str gabisa\n",
    "print (\"result : {}, data type : {}\".format (sum,type(sum)))"
   ]
  },
  {
   "cell_type": "code",
   "execution_count": 37,
   "metadata": {},
   "outputs": [
    {
     "name": "stdin",
     "output_type": "stream",
     "text": [
      "first number:  4\n",
      "second number :  5\n",
      "third number :  6\n"
     ]
    },
    {
     "name": "stdout",
     "output_type": "stream",
     "text": [
      "p is : 4, data type : <class 'str'>\n",
      "q is : 5, data type : <class 'str'>\n",
      "r is : 6, data type: <class 'str'>\n",
      "result : 15.0, data type : <class 'float'>\n",
      "result : 5.0, data type : <class 'float'>\n"
     ]
    }
   ],
   "source": [
    "p = input(\"first number: \")\n",
    "q = input(\"second number : \")\n",
    "r = input (\"third number : \")\n",
    "print (\"p is : {}, data type : {}\".format (p, type(p)))\n",
    "print (\"q is : {}, data type : {}\".format (q, type(q)))\n",
    "print (\"r is : {}, data type: {}\". format (r, type(r)))\n",
    "sum = float (p) + float (q) + float (r)  #harus sesuai type datanya (kalau float hasilnya dibelakang ada koma, kalo int gaada) str gabisa\n",
    "print (\"result : {}, data type : {}\".format (sum,type(sum)))\n",
    "avr = sum/3\n",
    "print (\"result : {}, data type : {}\".format (avr,type(avr)))"
   ]
  },
  {
   "cell_type": "code",
   "execution_count": null,
   "metadata": {},
   "outputs": [],
   "source": []
  }
 ],
 "metadata": {
  "kernelspec": {
   "display_name": "Python 3 (ipykernel)",
   "language": "python",
   "name": "python3"
  },
  "language_info": {
   "codemirror_mode": {
    "name": "ipython",
    "version": 3
   },
   "file_extension": ".py",
   "mimetype": "text/x-python",
   "name": "python",
   "nbconvert_exporter": "python",
   "pygments_lexer": "ipython3",
   "version": "3.12.7"
  }
 },
 "nbformat": 4,
 "nbformat_minor": 4
}
